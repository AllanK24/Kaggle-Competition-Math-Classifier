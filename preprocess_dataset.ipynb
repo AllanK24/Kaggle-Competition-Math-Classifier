{
 "cells": [
  {
   "cell_type": "code",
   "execution_count": 1,
   "id": "f7c78eae",
   "metadata": {},
   "outputs": [],
   "source": [
    "import pandas as pd\n",
    "from sklearn.model_selection import train_test_split"
   ]
  },
  {
   "cell_type": "code",
   "execution_count": 2,
   "id": "07c4da41",
   "metadata": {},
   "outputs": [
    {
     "data": {
      "text/html": [
       "<div>\n",
       "<style scoped>\n",
       "    .dataframe tbody tr th:only-of-type {\n",
       "        vertical-align: middle;\n",
       "    }\n",
       "\n",
       "    .dataframe tbody tr th {\n",
       "        vertical-align: top;\n",
       "    }\n",
       "\n",
       "    .dataframe thead th {\n",
       "        text-align: right;\n",
       "    }\n",
       "</style>\n",
       "<table border=\"1\" class=\"dataframe\">\n",
       "  <thead>\n",
       "    <tr style=\"text-align: right;\">\n",
       "      <th></th>\n",
       "      <th>Question</th>\n",
       "      <th>label</th>\n",
       "    </tr>\n",
       "  </thead>\n",
       "  <tbody>\n",
       "    <tr>\n",
       "      <th>0</th>\n",
       "      <td>A solitaire game is played as follows.  Six di...</td>\n",
       "      <td>3</td>\n",
       "    </tr>\n",
       "    <tr>\n",
       "      <th>1</th>\n",
       "      <td>2. The school table tennis championship was he...</td>\n",
       "      <td>5</td>\n",
       "    </tr>\n",
       "    <tr>\n",
       "      <th>2</th>\n",
       "      <td>Given that $x, y,$ and $z$ are real numbers th...</td>\n",
       "      <td>0</td>\n",
       "    </tr>\n",
       "    <tr>\n",
       "      <th>3</th>\n",
       "      <td>$25 \\cdot 22$ Given three distinct points $P\\l...</td>\n",
       "      <td>1</td>\n",
       "    </tr>\n",
       "    <tr>\n",
       "      <th>4</th>\n",
       "      <td>I am thinking of a five-digit number composed ...</td>\n",
       "      <td>5</td>\n",
       "    </tr>\n",
       "  </tbody>\n",
       "</table>\n",
       "</div>"
      ],
      "text/plain": [
       "                                            Question  label\n",
       "0  A solitaire game is played as follows.  Six di...      3\n",
       "1  2. The school table tennis championship was he...      5\n",
       "2  Given that $x, y,$ and $z$ are real numbers th...      0\n",
       "3  $25 \\cdot 22$ Given three distinct points $P\\l...      1\n",
       "4  I am thinking of a five-digit number composed ...      5"
      ]
     },
     "execution_count": 2,
     "metadata": {},
     "output_type": "execute_result"
    }
   ],
   "source": [
    "train_csv_path = '/home/omni/Programming/Qwen2.5-Math-Classifier/dataset/train.csv'\n",
    "dataset = pd.read_csv(train_csv_path)\n",
    "dataset.head()"
   ]
  },
  {
   "cell_type": "code",
   "execution_count": 3,
   "id": "b862215c",
   "metadata": {},
   "outputs": [
    {
     "data": {
      "text/plain": [
       "Index(['prompt', 'label'], dtype='object')"
      ]
     },
     "execution_count": 3,
     "metadata": {},
     "output_type": "execute_result"
    }
   ],
   "source": [
    "# Rename the Question column\n",
    "dataset = dataset.rename(columns={\n",
    "    'Question': 'prompt'\n",
    "})\n",
    "dataset.columns"
   ]
  },
  {
   "cell_type": "code",
   "execution_count": 4,
   "id": "96f2225d",
   "metadata": {},
   "outputs": [
    {
     "data": {
      "text/plain": [
       "(8660, 8660, 1529, 1529)"
      ]
     },
     "execution_count": 4,
     "metadata": {},
     "output_type": "execute_result"
    }
   ],
   "source": [
    "X, y = dataset['prompt'], dataset['label']\n",
    "\n",
    "X_train, X_val, y_train, y_val = train_test_split(X, y, test_size=0.15, shuffle=True, random_state=42, stratify=y)\n",
    "len(X_train), len(y_train), len(X_val), len(y_val)"
   ]
  },
  {
   "cell_type": "code",
   "execution_count": 5,
   "id": "7b785100",
   "metadata": {},
   "outputs": [
    {
     "name": "stdout",
     "output_type": "stream",
     "text": [
      "<class 'pandas.core.frame.DataFrame'>\n",
      "Index: 8660 entries, 471 to 5328\n",
      "Data columns (total 2 columns):\n",
      " #   Column  Non-Null Count  Dtype \n",
      "---  ------  --------------  ----- \n",
      " 0   prompt  8660 non-null   object\n",
      " 1   label   8660 non-null   int64 \n",
      "dtypes: int64(1), object(1)\n",
      "memory usage: 203.0+ KB\n"
     ]
    },
    {
     "data": {
      "text/plain": [
       "(                                                 prompt  label\n",
       " 471   Example 3 The line $l$ passes through a fixed ...      1\n",
       " 9979  ## Task 30/79\\n\\nSolve the following system of...      4\n",
       " 4385  1. 178 Find all three-digit numbers $A$ such t...      5\n",
       " 4729  For how many ordered triples $(x,y,z)$ of nonn...      5\n",
       " 3145  1. The quadratic equation with complex coeffic...      0,\n",
       " None)"
      ]
     },
     "execution_count": 5,
     "metadata": {},
     "output_type": "execute_result"
    }
   ],
   "source": [
    "from pandas import DataFrame\n",
    "train_df = DataFrame(data={\n",
    "    'prompt': X_train,\n",
    "    'label': y_train\n",
    "})\n",
    "\n",
    "train_df.head(), train_df.info()"
   ]
  },
  {
   "cell_type": "code",
   "execution_count": 6,
   "id": "55c95f8a",
   "metadata": {},
   "outputs": [
    {
     "name": "stdout",
     "output_type": "stream",
     "text": [
      "<class 'pandas.core.frame.DataFrame'>\n",
      "Index: 1529 entries, 2388 to 92\n",
      "Data columns (total 2 columns):\n",
      " #   Column  Non-Null Count  Dtype \n",
      "---  ------  --------------  ----- \n",
      " 0   prompt  1529 non-null   object\n",
      " 1   label   1529 non-null   int64 \n",
      "dtypes: int64(1), object(1)\n",
      "memory usage: 35.8+ KB\n"
     ]
    },
    {
     "data": {
      "text/plain": [
       "(                                                 prompt  label\n",
       " 2388  Let \\(O=(0,0)\\), \\(A=\\left(\\tfrac{1}{2},0\\righ...      1\n",
       " 5877  b'Let p(d) = -11*d + 28. Let n be 0 + (-2)/(-1...      0\n",
       " 7021  3.34. The base of the pyramid is a right-angle...      1\n",
       " 4972  Example 1. Form the equation of a circle whose...      1\n",
       " 2700  6.16 The sum of three consecutive terms of a g...      0,\n",
       " None)"
      ]
     },
     "execution_count": 6,
     "metadata": {},
     "output_type": "execute_result"
    }
   ],
   "source": [
    "val_df = DataFrame(data={\n",
    "    'prompt': X_val,\n",
    "    'label': y_val\n",
    "})\n",
    "\n",
    "val_df.head(), val_df.info()"
   ]
  },
  {
   "cell_type": "code",
   "execution_count": 8,
   "id": "de189198",
   "metadata": {},
   "outputs": [],
   "source": [
    "from pathlib import Path\n",
    "# Save updated datasets\n",
    "preprocessed_path = Path('/home/omni/Programming/Qwen2.5-Math-Classifier/dataset/preprocessed')\n",
    "train_df.to_csv(preprocessed_path / 'train.csv')\n",
    "val_df.to_csv(preprocessed_path / 'val.csv')"
   ]
  },
  {
   "cell_type": "code",
   "execution_count": null,
   "id": "0d6b7d07",
   "metadata": {},
   "outputs": [],
   "source": []
  }
 ],
 "metadata": {
  "kernelspec": {
   "display_name": ".venv",
   "language": "python",
   "name": "python3"
  },
  "language_info": {
   "codemirror_mode": {
    "name": "ipython",
    "version": 3
   },
   "file_extension": ".py",
   "mimetype": "text/x-python",
   "name": "python",
   "nbconvert_exporter": "python",
   "pygments_lexer": "ipython3",
   "version": "3.12.3"
  }
 },
 "nbformat": 4,
 "nbformat_minor": 5
}
